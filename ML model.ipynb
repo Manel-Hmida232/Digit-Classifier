{
 "cells": [
  {
   "cell_type": "code",
   "execution_count": 1,
   "metadata": {},
   "outputs": [],
   "source": [
    "import tensorflow as tf\n",
    "from sklearn.model_selection import train_test_split\n",
    "import matplotlib.pyplot as plt\n",
    "import joblib\n",
    "\n"
   ]
  },
  {
   "cell_type": "code",
   "execution_count": 2,
   "metadata": {},
   "outputs": [
    {
     "name": "stdout",
     "output_type": "stream",
     "text": [
      "Taille de l'ensemble d'entraînement: (42000, 28, 28)\n",
      "Taille de l'ensemble de validation: (18000, 28, 28)\n",
      "Taille de l'ensemble de test: (10000, 28, 28)\n"
     ]
    }
   ],
   "source": [
    "# Chargement des données MNIST\n",
    "mnist = tf.keras.datasets.mnist\n",
    "\n",
    "(x_train, y_train), (x_test, y_test) = mnist.load_data()\n",
    "\n",
    "# Data preprocessing: Normalisation des images à un intervalle de 0-1\n",
    "x_train, x_test = x_train / 255.0, x_test / 255.0\n",
    "\n",
    "# Diviser le jeu de données en ensembles d'entraînement et de test (70% - 30%)\n",
    "x_train, x_val, y_train, y_val = train_test_split(x_train, y_train, test_size=0.3, random_state=42)\n",
    "\n",
    "print(f'Taille de l\\'ensemble d\\'entraînement: {x_train.shape}')\n",
    "print(f'Taille de l\\'ensemble de validation: {x_val.shape}')\n",
    "print(f'Taille de l\\'ensemble de test: {x_test.shape}')\n"
   ]
  },
  {
   "cell_type": "markdown",
   "metadata": {},
   "source": [
    "Montrer les 9 premières images du training dataset et leurs labels en tant que titres:\n"
   ]
  },
  {
   "cell_type": "code",
   "execution_count": 3,
   "metadata": {},
   "outputs": [
    {
     "data": {
      "image/png": "[encoded data removed]",
      "text/plain": [
       "<Figure size 640x480 with 9 Axes>"
      ]
     },
     "metadata": {},
     "output_type": "display_data"
    }
   ],
   "source": [
    "for i in range(0, 9, 3):\n",
    "    for j in range(3):\n",
    "        plt.subplot(3, 3, i + j + 1)\n",
    "        plt.axis('off')\n",
    "        plt.imshow(x_train[i + j], cmap='gray')\n",
    "        plt.title(y_train[i + j].item())\n",
    "plt.show()\n"
   ]
  },
  {
   "cell_type": "code",
   "execution_count": 4,
   "metadata": {},
   "outputs": [
    {
     "name": "stdout",
     "output_type": "stream",
     "text": [
      "Rapport de classification pour SVM:\n",
      "               precision    recall  f1-score   support\n",
      "\n",
      "           0       0.95      0.98      0.96       980\n",
      "           1       0.97      0.98      0.98      1135\n",
      "           2       0.92      0.93      0.92      1032\n",
      "           3       0.91      0.92      0.92      1010\n",
      "           4       0.94      0.96      0.95       982\n",
      "           5       0.91      0.90      0.90       892\n",
      "           6       0.96      0.95      0.96       958\n",
      "           7       0.95      0.93      0.94      1028\n",
      "           8       0.92      0.90      0.91       974\n",
      "           9       0.94      0.91      0.93      1009\n",
      "\n",
      "    accuracy                           0.94     10000\n",
      "   macro avg       0.94      0.94      0.94     10000\n",
      "weighted avg       0.94      0.94      0.94     10000\n",
      "\n",
      "Précision pour SVM: 0.9377\n"
     ]
    }
   ],
   "source": [
    "from sklearn import svm\n",
    "from sklearn.metrics import classification_report, accuracy_score\n",
    "\n",
    "# Aplatir les images pour SVM\n",
    "x_train_flat = x_train.reshape(-1, 28*28)\n",
    "x_val_flat = x_val.reshape(-1, 28*28)\n",
    "x_test_flat = x_test.reshape(-1, 28*28)\n",
    "\n",
    "# Créer un modèle SVM linéaire et l'entrainer \n",
    "svm_l = svm.SVC(kernel='linear')\n",
    "svm_l.fit(x_train_flat, y_train)\n",
    "\n",
    "# Prédire les résultats pour les données du test\n",
    "y_pred_svm = svm_l.predict(x_test_flat)\n",
    "print(\"Rapport de classification pour SVM:\\n\", classification_report(y_test, y_pred_svm))\n",
    "print(\"Précision pour SVM:\", accuracy_score(y_test, y_pred_svm))\n"
   ]
  },
  {
   "cell_type": "code",
   "execution_count": 5,
   "metadata": {},
   "outputs": [
    {
     "name": "stdout",
     "output_type": "stream",
     "text": [
      "Rapport de classification pour SVM:\n",
      "               precision    recall  f1-score   support\n",
      "\n",
      "           0       0.98      0.99      0.98       980\n",
      "           1       0.97      0.99      0.98      1135\n",
      "           2       0.97      0.97      0.97      1032\n",
      "           3       0.97      0.97      0.97      1010\n",
      "           4       0.97      0.98      0.98       982\n",
      "           5       0.97      0.97      0.97       892\n",
      "           6       0.98      0.97      0.98       958\n",
      "           7       0.97      0.96      0.97      1028\n",
      "           8       0.97      0.97      0.97       974\n",
      "           9       0.98      0.96      0.97      1009\n",
      "\n",
      "    accuracy                           0.97     10000\n",
      "   macro avg       0.97      0.97      0.97     10000\n",
      "weighted avg       0.97      0.97      0.97     10000\n",
      "\n",
      "Précision pour SVM: 0.9741\n"
     ]
    }
   ],
   "source": [
    "# Créer un modèle SVM non linéaire avec un noyau polynomial\n",
    "svm_p = svm.SVC(kernel='poly', degree=3)\n",
    "svm_p.fit(x_train_flat, y_train)\n",
    "\n",
    "# Prédire les résultats pour les données du test\n",
    "y_pred_svm = svm_p.predict(x_test_flat)\n",
    "print(\"Rapport de classification pour SVM:\\n\", classification_report(y_test, y_pred_svm))\n",
    "print(\"Précision pour SVM:\", accuracy_score(y_test, y_pred_svm))"
   ]
  },
  {
   "cell_type": "code",
   "execution_count": 6,
   "metadata": {},
   "outputs": [
    {
     "name": "stdout",
     "output_type": "stream",
     "text": [
      "Rapport de classification pour k-NN:\n",
      "               precision    recall  f1-score   support\n",
      "\n",
      "           0       0.97      0.99      0.98       980\n",
      "           1       0.95      1.00      0.97      1135\n",
      "           2       0.98      0.96      0.97      1032\n",
      "           3       0.96      0.96      0.96      1010\n",
      "           4       0.97      0.97      0.97       982\n",
      "           5       0.96      0.97      0.97       892\n",
      "           6       0.98      0.98      0.98       958\n",
      "           7       0.96      0.96      0.96      1028\n",
      "           8       0.98      0.92      0.95       974\n",
      "           9       0.96      0.95      0.95      1009\n",
      "\n",
      "    accuracy                           0.97     10000\n",
      "   macro avg       0.97      0.97      0.97     10000\n",
      "weighted avg       0.97      0.97      0.97     10000\n",
      "\n",
      "Précision pour k-NN: 0.9672\n"
     ]
    }
   ],
   "source": [
    "from sklearn.neighbors import KNeighborsClassifier\n",
    "\n",
    "# Entraîner un classificateur k-NN\n",
    "knn_clf = KNeighborsClassifier(n_neighbors=3)\n",
    "knn_clf.fit(x_train_flat, y_train)\n",
    "\n",
    "# Prédiction et évaluation\n",
    "y_pred_knn = knn_clf.predict(x_test_flat)\n",
    "print(\"Rapport de classification pour k-NN:\\n\", classification_report(y_test, y_pred_knn))\n",
    "print(\"Précision pour k-NN:\", accuracy_score(y_test, y_pred_knn))\n"
   ]
  },
  {
   "cell_type": "code",
   "execution_count": 7,
   "metadata": {},
   "outputs": [
    {
     "data": {
      "text/plain": [
       "['svm_model.pkl']"
      ]
     },
     "execution_count": 7,
     "metadata": {},
     "output_type": "execute_result"
    }
   ],
   "source": [
    "\n",
    "# Charger un modèle pré-entraîné \n",
    "model = svm_p\n",
    "\n",
    "joblib.dump(model, 'svm_model.pkl')\n"
   ]
  }
 ],
 "metadata": {
  "kernelspec": {
   "display_name": "Python 3",
   "language": "python",
   "name": "python3"
  },
  "language_info": {
   "codemirror_mode": {
    "name": "ipython",
    "version": 3
   },
   "file_extension": ".py",
   "mimetype": "text/x-python",
   "name": "python",
   "nbconvert_exporter": "python",
   "pygments_lexer": "ipython3",
   "version": "3.11.5"
  }
 },
 "nbformat": 4,
 "nbformat_minor": 2
}
